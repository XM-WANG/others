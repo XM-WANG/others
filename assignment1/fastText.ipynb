{
  "nbformat": 4,
  "nbformat_minor": 0,
  "metadata": {
    "colab": {
      "name": "Untitled1.ipynb",
      "version": "0.3.2",
      "provenance": [],
      "collapsed_sections": [],
      "toc_visible": true
    },
    "kernelspec": {
      "name": "python3",
      "display_name": "Python 3"
    }
  },
  "cells": [
    {
      "metadata": {
        "id": "YcxAlYwO4ZNF",
        "colab_type": "code",
        "colab": {
          "base_uri": "https://localhost:8080/",
          "height": 387
        },
        "outputId": "dc5e182b-a66f-4709-c760-1b6fa0cc9940"
      },
      "cell_type": "code",
      "source": [
        "!pip3 install git+https://github.com/pybind/pybind11.git@060936f\n",
        "!pip3 install git+https://github.com/facebookresearch/fastText@3872afadb3a9f30de7c7792ff2ff1bda64242097"
      ],
      "execution_count": 1,
      "outputs": [
        {
          "output_type": "stream",
          "text": [
            "Collecting git+https://github.com/pybind/pybind11.git@060936f\n",
            "  Cloning https://github.com/pybind/pybind11.git (to revision 060936f) to /tmp/pip-req-build-cavy0xkt\n",
            "\u001b[33m  Did not find branch or tag '060936f', assuming revision or ref.\u001b[0m\n",
            "Building wheels for collected packages: pybind11\n",
            "  Running setup.py bdist_wheel for pybind11 ... \u001b[?25l-\b \b\\\b \bdone\n",
            "\u001b[?25h  Stored in directory: /tmp/pip-ephem-wheel-cache-ccu18zfc/wheels/b7/06/d9/3f14a808e1f37c11081f7d1dfd07201447a1e1fe1e82584860\n",
            "Successfully built pybind11\n",
            "Installing collected packages: pybind11\n",
            "Successfully installed pybind11-2.3.dev0\n",
            "Collecting git+https://github.com/facebookresearch/fastText@3872afadb3a9f30de7c7792ff2ff1bda64242097\n",
            "  Cloning https://github.com/facebookresearch/fastText (to revision 3872afadb3a9f30de7c7792ff2ff1bda64242097) to /tmp/pip-req-build-ny49gjt9\n",
            "Requirement already satisfied: pybind11>=2.2 in /usr/local/lib/python3.6/dist-packages (from fasttext==0.8.22) (2.3.dev0)\n",
            "Requirement already satisfied: setuptools>=0.7.0 in /usr/local/lib/python3.6/dist-packages (from fasttext==0.8.22) (39.1.0)\n",
            "Requirement already satisfied: numpy in /usr/local/lib/python3.6/dist-packages (from fasttext==0.8.22) (1.14.6)\n",
            "Building wheels for collected packages: fasttext\n",
            "  Running setup.py bdist_wheel for fasttext ... \u001b[?25l-\b \b\\\b \b|\b \b/\b \b-\b \b\\\b \b|\b \b/\b \b-\b \b\\\b \b|\b \b/\b \b-\b \b\\\b \b|\b \b/\b \b-\b \b\\\b \b|\b \b/\b \b-\b \bdone\n",
            "\u001b[?25h  Stored in directory: /tmp/pip-ephem-wheel-cache-xbsqymn1/wheels/ff/62/cb/cabfc4cf3712852583a4090f222b5d6d57f4169112b5de97d8\n",
            "Successfully built fasttext\n",
            "Installing collected packages: fasttext\n",
            "Successfully installed fasttext-0.8.22\n"
          ],
          "name": "stdout"
        }
      ]
    },
    {
      "metadata": {
        "id": "quSq4Ly34eBI",
        "colab_type": "code",
        "colab": {}
      },
      "cell_type": "code",
      "source": [
        "import os\n",
        "import codecs\n",
        "import glob\n",
        "import numpy as np\n",
        "import pandas as pd  \n",
        "from sklearn.model_selection import train_test_split\n",
        "from fastText import train_supervised\n",
        "from fastText import load_model"
      ],
      "execution_count": 0,
      "outputs": []
    },
    {
      "metadata": {
        "id": "21QdESfe8gvC",
        "colab_type": "code",
        "colab": {}
      },
      "cell_type": "code",
      "source": [
        "model = train_supervised(\n",
        "    input=\"trainData.txt\",\n",
        "    epoch = 25,\n",
        "    lr = 1.0,\n",
        "    wordNgrams=2,\n",
        "    verbose=2,\n",
        "    minCount=1\n",
        "  )"
      ],
      "execution_count": 0,
      "outputs": []
    },
    {
      "metadata": {
        "id": "H_U3IAMMytpA",
        "colab_type": "code",
        "colab": {}
      },
      "cell_type": "code",
      "source": [
        "model.save_model(\"model.bin\")\n",
        "num,precision,recall = model.test('testData.txt',k=1)"
      ],
      "execution_count": 0,
      "outputs": []
    },
    {
      "metadata": {
        "id": "vIVSU6rumAWn",
        "colab_type": "code",
        "colab": {
          "base_uri": "https://localhost:8080/",
          "height": 51
        },
        "outputId": "d65c79e4-46c4-4ac9-d8c6-43d0a21b3651"
      },
      "cell_type": "code",
      "source": [
        "print(\"recall:\",recall)\n",
        "print(\"precision\",precision)"
      ],
      "execution_count": 51,
      "outputs": [
        {
          "output_type": "stream",
          "text": [
            "recall: 0.8952\n",
            "precision 0.8952\n"
          ],
          "name": "stdout"
        }
      ]
    },
    {
      "metadata": {
        "id": "IFKP0r3Bm22-",
        "colab_type": "code",
        "colab": {}
      },
      "cell_type": "code",
      "source": [
        ""
      ],
      "execution_count": 0,
      "outputs": []
    }
  ]
}