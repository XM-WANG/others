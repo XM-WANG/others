{
 "cells": [
  {
   "cell_type": "code",
   "execution_count": null,
   "metadata": {},
   "outputs": [],
   "source": [
    "'''\n",
    "This program is used to integrate separate text files into a whole one.\n",
    "This program generate 3 text files:\n",
    "    1.allData.txt: contain 50000 records with label \"__label__neg\" or \"__label__neg\"\n",
    "    2.trainData.txt:contain 35000 records with label \"__label__neg\" or \"__label__neg\"\n",
    "    3.testData.txt:contain 15000 records with label \"__label__neg\" or \"__label__neg\"\n",
    "As for the upload speed, I make and run this program on my own computer and then upload these 3 files to the google VM \n",
    "'''"
   ]
  },
  {
   "cell_type": "code",
   "execution_count": 1,
   "metadata": {},
   "outputs": [],
   "source": [
    "import os\n",
    "import codecs\n",
    "import glob\n",
    "import pandas as pd  \n",
    "import numpy as np\n",
    "from sklearn.model_selection import train_test_split"
   ]
  },
  {
   "cell_type": "code",
   "execution_count": 2,
   "metadata": {},
   "outputs": [],
   "source": [
    "def addData(s):\n",
    "    os.chdir(s)\n",
    "    files = glob.glob('*.txt')        \n",
    "    b=[]\n",
    "    for i in files:\n",
    "        f = open(i,'rb')\n",
    "        a=f.read()\n",
    "        b.append(a)\n",
    "    comdf=pd.DataFrame(b)\n",
    "    path = os.getcwd()\n",
    "    if path[-3:] == 'neg':\n",
    "        comdf['B']='__label__neg'\n",
    "    elif path[-3:] == 'pos':\n",
    "        comdf['B']='__label__pos'\n",
    "    comdf.rename(columns={0:'A'},inplace=True)\n",
    "    return comdf"
   ]
  },
  {
   "cell_type": "code",
   "execution_count": 3,
   "metadata": {},
   "outputs": [],
   "source": [
    "df_all=pd.DataFrame(columns=['A','B'])\n",
    "#df_all[['type']] = df_all[['type']].astype(int)\n",
    "n1=addData('E:\\\\document\\\\strange\\\\aclImdb\\\\test\\\\neg')\n",
    "n2=addData('E:\\\\document\\\\strange\\\\aclImdb\\\\test\\\\pos')\n",
    "n3=addData('E:\\\\document\\\\strange\\\\aclImdb\\\\train\\\\neg')\n",
    "n4=addData('E:\\\\document\\\\strange\\\\aclImdb\\\\train\\\\pos')\n",
    "df_all=df_all.append(n1)\n",
    "df_all=df_all.append(n2)\n",
    "df_all=df_all.append(n3)\n",
    "df_all=df_all.append(n4)\n"
   ]
  },
  {
   "cell_type": "code",
   "execution_count": 58,
   "metadata": {},
   "outputs": [
    {
     "data": {
      "text/html": [
       "<div>\n",
       "<style scoped>\n",
       "    .dataframe tbody tr th:only-of-type {\n",
       "        vertical-align: middle;\n",
       "    }\n",
       "\n",
       "    .dataframe tbody tr th {\n",
       "        vertical-align: top;\n",
       "    }\n",
       "\n",
       "    .dataframe thead th {\n",
       "        text-align: right;\n",
       "    }\n",
       "</style>\n",
       "<table border=\"1\" class=\"dataframe\">\n",
       "  <thead>\n",
       "    <tr style=\"text-align: right;\">\n",
       "      <th></th>\n",
       "      <th>B</th>\n",
       "      <th>A</th>\n",
       "    </tr>\n",
       "  </thead>\n",
       "  <tbody>\n",
       "    <tr>\n",
       "      <th>0</th>\n",
       "      <td>__label__neg</td>\n",
       "      <td>b\"Once again Mr. Costner has dragged out a mov...</td>\n",
       "    </tr>\n",
       "    <tr>\n",
       "      <th>1</th>\n",
       "      <td>__label__neg</td>\n",
       "      <td>b\"This is an example of why the majority of ac...</td>\n",
       "    </tr>\n",
       "    <tr>\n",
       "      <th>2</th>\n",
       "      <td>__label__neg</td>\n",
       "      <td>b\"First of all I hate those moronic rappers, w...</td>\n",
       "    </tr>\n",
       "    <tr>\n",
       "      <th>3</th>\n",
       "      <td>__label__neg</td>\n",
       "      <td>b\"Not even the Beatles could write songs every...</td>\n",
       "    </tr>\n",
       "    <tr>\n",
       "      <th>4</th>\n",
       "      <td>__label__neg</td>\n",
       "      <td>b\"Brass pictures (movies is not a fitting word...</td>\n",
       "    </tr>\n",
       "  </tbody>\n",
       "</table>\n",
       "</div>"
      ],
      "text/plain": [
       "              B                                                  A\n",
       "0  __label__neg  b\"Once again Mr. Costner has dragged out a mov...\n",
       "1  __label__neg  b\"This is an example of why the majority of ac...\n",
       "2  __label__neg  b\"First of all I hate those moronic rappers, w...\n",
       "3  __label__neg  b\"Not even the Beatles could write songs every...\n",
       "4  __label__neg  b\"Brass pictures (movies is not a fitting word..."
      ]
     },
     "execution_count": 58,
     "metadata": {},
     "output_type": "execute_result"
    }
   ],
   "source": [
    "df_all=df_all.reindex(columns=list('BA'))\n",
    "df_all.head()"
   ]
  },
  {
   "cell_type": "code",
   "execution_count": 59,
   "metadata": {},
   "outputs": [],
   "source": [
    "np.savetxt(r'E:/document/strange/aclImdb/allData.txt', df_all.values, fmt='%s',encoding='utf-8')"
   ]
  },
  {
   "cell_type": "code",
   "execution_count": 4,
   "metadata": {},
   "outputs": [],
   "source": [
    "X = df_all[\"A\"]\n",
    "y = df_all[\"B\"]\n",
    "X_train,X_test,y_train, y_test = train_test_split(\n",
    "        X,y,test_size=0.3, stratify=y, random_state=100)"
   ]
  },
  {
   "cell_type": "code",
   "execution_count": 5,
   "metadata": {},
   "outputs": [],
   "source": [
    "df_train = pd.DataFrame({'B':y_train,'A':X_train})\n",
    "df_test = pd.DataFrame({'B':y_test,'A':X_test})"
   ]
  },
  {
   "cell_type": "code",
   "execution_count": 63,
   "metadata": {},
   "outputs": [],
   "source": [
    "np.savetxt(r'E:/document/strange/aclImdb/trainData.txt', df_train.values, fmt='%s',encoding='utf-8')"
   ]
  },
  {
   "cell_type": "code",
   "execution_count": 6,
   "metadata": {},
   "outputs": [],
   "source": [
    "np.savetxt(r'E:/document/strange/aclImdb/testData.txt', df_test.values, fmt='%s',encoding='utf-8')"
   ]
  },
  {
   "cell_type": "code",
   "execution_count": null,
   "metadata": {},
   "outputs": [],
   "source": []
  }
 ],
 "metadata": {
  "kernelspec": {
   "display_name": "Python 3",
   "language": "python",
   "name": "python3"
  },
  "language_info": {
   "codemirror_mode": {
    "name": "ipython",
    "version": 3
   },
   "file_extension": ".py",
   "mimetype": "text/x-python",
   "name": "python",
   "nbconvert_exporter": "python",
   "pygments_lexer": "ipython3",
   "version": "3.6.5"
  }
 },
 "nbformat": 4,
 "nbformat_minor": 2
}
