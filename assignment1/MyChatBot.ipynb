{
 "cells": [
  {
   "cell_type": "code",
   "execution_count": 1,
   "metadata": {},
   "outputs": [],
   "source": [
    "import sys\n",
    "import time\n",
    "import telepot\n",
    "import pickle\n",
    "from pprint import pprint\n",
    "from telepot.loop import MessageLoop"
   ]
  },
  {
   "cell_type": "code",
   "execution_count": 2,
   "metadata": {},
   "outputs": [],
   "source": [
    "bot = telepot.Bot('620336112:AAHlqfRRVrYY6VwN9RPrpFWiD9ZuSClEvvo')"
   ]
  },
  {
   "cell_type": "code",
   "execution_count": 3,
   "metadata": {},
   "outputs": [
    {
     "name": "stdout",
     "output_type": "stream",
     "text": [
      "input: good\n",
      "output: This is a positive review![0.57598811]\n",
      "input: Lucio Fulci was famous for his Italian splatter movies, mostly his undead films like Zombie or The Beyond. Here he directed a black comedy of sorts, but there's just one problem: its nauseating. I say this knowing that I like City of the Walking Dead (which is also gross but not like this). A compulsive gambler gets money for his habit by romancing ugly and deformed rich women then murdering them and stealing their cash. The film makes this plan look that easy. I guess the women were too ugly to go to a bank, so they always had their cash on person. After the upteenth murder I began to suspect what I've always heard about Fulci: he hated women. He must have. At any rate this film stinks, its not funny, and Fulci should have stayed with giallo and supernatural zombie movies. Avoid this film at all costs.\n",
      "output: This is a negative review![0.0046452]\n",
      "input: This is one of my three all-time favorite movies. My only quibble is that the director, Peter Yates, had too many cuts showing the actors individually instead of together as a scene, but the performances were so great I forgive him.<br /><br />Albert Finney and Tom Courtenay are absolutely marvelous; brilliant. The script is great, giving a very good picture of life in the theatre during World War II (and, therefore, what it was like in the 30s as well). Lots of great, subtle touches, lots of broad, overplayed strokes, all of it perfectly done. Scene after scene just blows me away, and then there's the heartbreaking climax.\n",
      "output: This is a positive review![0.99977517]\n"
     ]
    }
   ],
   "source": [
    "with open(r\"E:\\document\\strange\\aclImdb\\train\\pos\\CVLRbigram.pickle\",\"rb\") as f:\n",
    "    model = pickle.load(f)\n",
    "def handle(msg):\n",
    "    content_type, chat_type, chat_id = telepot.glance(msg)\n",
    "    #print(content_type, chat_type, chat_id)\n",
    "    receive=[]\n",
    "    receive.append(msg['text'])\n",
    "    result=model.predict(receive)\n",
    "    score=model.predict_proba(receive)\n",
    "    if result[0].item() == 1:\n",
    "        send = \"This is a positive review!\"+str(score[0][1:])\n",
    "        print(\"input:\",msg['text'])\n",
    "        print(\"output:\",send)\n",
    "    elif result[0].item() == 0:\n",
    "        send = \"This is a negative review!\"+str(score[0][1:])\n",
    "        print(\"input:\",msg['text'])\n",
    "        print(\"output:\",send)\n",
    "    if content_type == 'text':\n",
    "        bot.sendMessage(chat_id, send)\n",
    "MessageLoop(bot, handle).run_as_thread()"
   ]
  },
  {
   "cell_type": "code",
   "execution_count": null,
   "metadata": {},
   "outputs": [],
   "source": []
  }
 ],
 "metadata": {
  "kernelspec": {
   "display_name": "Python 3",
   "language": "python",
   "name": "python3"
  },
  "language_info": {
   "codemirror_mode": {
    "name": "ipython",
    "version": 3
   },
   "file_extension": ".py",
   "mimetype": "text/x-python",
   "name": "python",
   "nbconvert_exporter": "python",
   "pygments_lexer": "ipython3",
   "version": "3.6.5"
  }
 },
 "nbformat": 4,
 "nbformat_minor": 2
}
